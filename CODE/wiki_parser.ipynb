{
 "cells": [
  {
   "cell_type": "markdown",
   "metadata": {},
   "source": [
    "# TOPIC MODELING :\n",
    "# Part 1 :\n",
    "### Extract data :\n",
    "- 0/ Create empty df\n",
    "- 1/ Extract corpus (Web scrapping on XML) and 1st article cleaning (regex)\n",
    "- 2/ Add extracted data in the df and save the df\n",
    "\n",
    "\n",
    "\n",
    "\n",
    "# Part 2 :\n",
    "### Pre-processing :\n",
    "- 0/ Open dataset\n",
    "- 1/ Select data for training (aka, training dataset)\n",
    "- 2/ remove stopword and Lemmatization\n",
    "\n",
    "\n",
    "### Building word dictionnary :\n",
    "- 0/ Creating term dictionary of corpus, where each unique term is assigned an index\n",
    "- 1/ Filter terms which occurs in less than 4 articles (aim to reduce overfitting) & more than 40% of the articles (aim to reduce underfitting)\n",
    "- 2/ List of few words which are removed from dictionary as they are content neutral\n",
    "- 3/ Analyse The most frequent words with their respective frequencies\n",
    "\n",
    "\n",
    "### Feature extraction (Bag of Words) : \n",
    "- 1/ Converting list of documents (corpus) into Document Term Matrix using dictionary prepared above.\n",
    "\n",
    "\n",
    "### LDA model training :\n",
    "- 0/ Naiv modeling\n",
    "- 1/ Optimize hyper parameters\n",
    "- 2/ Ajust the model with best hyper parameters \n",
    "- 3/ Analyse the result of all topics\n",
    "- 4/ Save the model and the list of topics\n",
    "\n",
    "\n",
    "\n",
    "\n",
    "# Part 3 :\n",
    "### Load the LDA model :\n",
    "\n",
    "\n",
    "### Open test data :\n",
    "\n",
    "\n",
    "### Create functions for Pre-processing on test set :\n",
    "- 0/ Clean article with regex\n",
    "- 1/ Drop empty and useless article\n",
    "- 2/ Clean article with stop word and lemmatization\n",
    "\n",
    "\n",
    "### Document clustering :\n",
    "- 0/ Clustering articles\n",
    "- 1/ Analyse the result of the clustering\n",
    "\n",
    "\n",
    "### Theme extraction :\n",
    "- 0/ Give an article and obtain the topic of article\n",
    "\n",
    "\n",
    "### Document exploration :\n",
    "- 0/ Give a topic and obtain a list of articles (from test) which are the most probably belong to the mentionned topic\n"
   ]
  },
  {
   "cell_type": "markdown",
   "metadata": {},
   "source": [
    "# _____________________________________________________________________________________________________"
   ]
  },
  {
   "cell_type": "markdown",
   "metadata": {},
   "source": [
    "# Part 1 : "
   ]
  },
  {
   "cell_type": "markdown",
   "metadata": {},
   "source": [
    "# 1/ Extract data :"
   ]
  },
  {
   "cell_type": "markdown",
   "metadata": {},
   "source": [
    "## Create an empty df "
   ]
  },
  {
   "cell_type": "code",
   "execution_count": null,
   "metadata": {},
   "outputs": [
    {
     "data": {
      "text/html": [
       "<div>\n",
       "<style scoped>\n",
       "    .dataframe tbody tr th:only-of-type {\n",
       "        vertical-align: middle;\n",
       "    }\n",
       "\n",
       "    .dataframe tbody tr th {\n",
       "        vertical-align: top;\n",
       "    }\n",
       "\n",
       "    .dataframe thead th {\n",
       "        text-align: right;\n",
       "    }\n",
       "</style>\n",
       "<table border=\"1\" class=\"dataframe\">\n",
       "  <thead>\n",
       "    <tr style=\"text-align: right;\">\n",
       "      <th></th>\n",
       "      <th>article_nb</th>\n",
       "      <th>corpus</th>\n",
       "    </tr>\n",
       "  </thead>\n",
       "  <tbody>\n",
       "  </tbody>\n",
       "</table>\n",
       "</div>"
      ],
      "text/plain": [
       "Empty DataFrame\n",
       "Columns: [article_nb, corpus]\n",
       "Index: []"
      ]
     },
     "execution_count": 1,
     "metadata": {},
     "output_type": "execute_result"
    }
   ],
   "source": [
    "# Create an empty df :\n",
    "import pandas as pd\n",
    " \n",
    "df = pd.DataFrame({\n",
    "    \"article_nb\": [],\n",
    "    \"corpus\": []})\n",
    "df"
   ]
  },
  {
   "cell_type": "markdown",
   "metadata": {},
   "source": [
    "## Extract corpus (Web scrapping on XML) and 1st article cleaning (regex)"
   ]
  },
  {
   "cell_type": "markdown",
   "metadata": {},
   "source": [
    "This code cleans and prepares Wikipedia data for further analysis and clustering based on the text of the articles. The DataFrame `df` will contain the cleaned Wikipedia articles ready to be used for NLP-based clustering.\n",
    "Only corpuses will be used in our work, the corpus is the most important part in a wikipedia article and allows us to detect the theme."
   ]
  },
  {
   "cell_type": "code",
   "execution_count": null,
   "metadata": {},
   "outputs": [],
   "source": [
    "import xml.etree.ElementTree as ET\n",
    "import codecs\n",
    "import re\n",
    "import os \n",
    "\n",
    "def is_ascii(s):\n",
    "    return all(ord(c) < 128 for c in s)\n",
    "\n",
    "list_XML_data = os.listdir('../DATA/XML_data/')\n",
    "\n",
    "for h,j in enumerate(list_XML_data) :\n",
    "    tree = ET.parse('..//DATA//XML_data//'+ j) \n",
    "    root = tree.getroot()\n",
    "\n",
    "    for i,page in enumerate(root.findall('{http://www.mediawiki.org/xml/export-0.10/}page')):\n",
    "        for p in page:    \n",
    "            if p.tag == \"{http://www.mediawiki.org/xml/export-0.10/}revision\":\n",
    "                for x in p:\n",
    "                    if x.tag == \"{http://www.mediawiki.org/xml/export-0.10/}text\":                    \n",
    "                        article_txt = x.text\n",
    "                        if not article_txt == None:  \n",
    "                            # Extracting the text portion from the article                                              \n",
    "                            article_txt = article_txt[ : article_txt.find(\"==\")]\n",
    "                            \n",
    "                            # remove text written between double curly braces\n",
    "                            article_txt = re.sub(r\"{{.*}}\",\"\",article_txt)\n",
    "                            \n",
    "                            # remove file attachments\n",
    "                            article_txt = re.sub(r\"\\[\\[File:.*\\]\\]\",\"\",article_txt)\n",
    "                            \n",
    "                            # remove Image attachments\n",
    "                            article_txt = re.sub(r\"\\[\\[Image:.*\\]\\]\",\"\",article_txt)\n",
    "                            \n",
    "                            # remove unwanted lines starting from special characters\n",
    "                            article_txt = re.sub(r\"\\n: \\'\\'.*\",\"\",article_txt)\n",
    "                            article_txt = re.sub(r\"\\n!.*\",\"\",article_txt)\n",
    "                            article_txt = re.sub(r\"^:\\'\\'.*\",\"\",article_txt)\n",
    "                            \n",
    "                            #  remove non-breaking space symbols\n",
    "                            article_txt = re.sub(r\"&nbsp\",\"\",article_txt)\n",
    "                            \n",
    "                            # remove URLs link\n",
    "                            article_txt = re.sub(r\"http\\S+\",\"\",article_txt)\n",
    "                            \n",
    "                            # remove digits from text\n",
    "                            article_txt = re.sub(r\"\\d+\",\"\",article_txt)   \n",
    "                            \n",
    "                            # remove text written between small braces\n",
    "                            article_txt = re.sub(r\"\\(.*\\)\",\"\",article_txt)\n",
    "                            \n",
    "                            # remove sentence which tells category of article\n",
    "                            article_txt = re.sub(r\"Category:.*\",\"\",article_txt)\n",
    "                            \n",
    "                            # remove the sentences inside infobox or taxobox\n",
    "                            article_txt = re.sub(r\"\\| .*\",\"\",article_txt)\n",
    "                            article_txt = re.sub(r\"\\n\\|.*\",\"\",article_txt)\n",
    "                            article_txt = re.sub(r\"\\n \\|.*\",\"\",article_txt)\n",
    "                            article_txt = re.sub(r\".* \\|\\n\",\"\",article_txt)\n",
    "                            article_txt = re.sub(r\".*\\|\\n\",\"\",article_txt)\n",
    "                            \n",
    "                            # remove infobox or taxobox\n",
    "                            article_txt = re.sub(r\"{{Infobox.*\",\"\",article_txt)\n",
    "                            article_txt = re.sub(r\"{{infobox.*\",\"\",article_txt)\n",
    "                            article_txt = re.sub(r\"{{taxobox.*\",\"\",article_txt)\n",
    "                            article_txt = re.sub(r\"{{Taxobox.*\",\"\",article_txt)\n",
    "                            article_txt = re.sub(r\"{{ Infobox.*\",\"\",article_txt)\n",
    "                            article_txt = re.sub(r\"{{ infobox.*\",\"\",article_txt)\n",
    "                            article_txt = re.sub(r\"{{ taxobox.*\",\"\",article_txt)\n",
    "                            article_txt = re.sub(r\"{{ Taxobox.*\",\"\",article_txt)\n",
    "                            \n",
    "                            # remove lines starting from *\n",
    "                            article_txt = re.sub(r\"\\* .*\",\"\",article_txt)\n",
    "                            \n",
    "                            # remove text written between angle bracket\n",
    "                            article_txt = re.sub(r\"<.*>\",\"\",article_txt)\n",
    "                            \n",
    "                            # remove new line character\n",
    "                            article_txt = re.sub(r\"\\n\",\"\",article_txt)  \n",
    "                            \n",
    "                            # replace all punctuations with space\n",
    "                            article_txt = re.sub(r\"\\!|\\\"|\\#|\\$|\\%|\\&|\\'|\\(|\\)|\\*|\\+|\\,|\\-|\\.|\\/|\\:|\\;|\\<|\\=|\\>|\\?|\\@|\\[|\\\\|\\]|\\^|\\_|\\`|\\{|\\||\\}|\\~\",\" \",article_txt)\n",
    "                            \n",
    "                            # replace consecutive multiple space with single space\n",
    "                            article_txt = re.sub(r\" +\",\" \",article_txt)\n",
    "                            \n",
    "                            # replace non-breaking space with regular space\n",
    "                            article_txt = article_txt.replace(u'\\xa0', u' ')\n",
    "                            \n",
    "                            # Writing the clean text in df : \n",
    "                            if not article_txt == None and not article_txt == \"\" and len(article_txt) > 150 and is_ascii(article_txt) :\n",
    "                                df_new = pd.DataFrame({\n",
    "                                    \"article_nb\": [\"article\"+ str(h) + \"_\" + str(i+1)],\n",
    "                                    \"corpus\": [article_txt]})\n",
    "                                df = pd.concat([df, df_new], ignore_index=True)"
   ]
  },
  {
   "cell_type": "markdown",
   "metadata": {},
   "source": [
    "## Add extracted data in the df and save the df"
   ]
  },
  {
   "cell_type": "code",
   "execution_count": null,
   "metadata": {},
   "outputs": [
    {
     "data": {
      "text/html": [
       "<div>\n",
       "<style scoped>\n",
       "    .dataframe tbody tr th:only-of-type {\n",
       "        vertical-align: middle;\n",
       "    }\n",
       "\n",
       "    .dataframe tbody tr th {\n",
       "        vertical-align: top;\n",
       "    }\n",
       "\n",
       "    .dataframe thead th {\n",
       "        text-align: right;\n",
       "    }\n",
       "</style>\n",
       "<table border=\"1\" class=\"dataframe\">\n",
       "  <thead>\n",
       "    <tr style=\"text-align: right;\">\n",
       "      <th></th>\n",
       "      <th>article_nb</th>\n",
       "      <th>corpus</th>\n",
       "    </tr>\n",
       "  </thead>\n",
       "  <tbody>\n",
       "    <tr>\n",
       "      <th>0</th>\n",
       "      <td>article1_2</td>\n",
       "      <td>Anarchism is a political philosophy and Polit...</td>\n",
       "    </tr>\n",
       "    <tr>\n",
       "      <th>1</th>\n",
       "      <td>article65_66</td>\n",
       "      <td>Alabama Alabama is nicknamed the Northern fli...</td>\n",
       "    </tr>\n",
       "    <tr>\n",
       "      <th>2</th>\n",
       "      <td>article67_68</td>\n",
       "      <td>In Greek mythology Achilles was a hero of the ...</td>\n",
       "    </tr>\n",
       "    <tr>\n",
       "      <th>3</th>\n",
       "      <td>article70_71</td>\n",
       "      <td>collapsible list collapsible list collapsible...</td>\n",
       "    </tr>\n",
       "    <tr>\n",
       "      <th>4</th>\n",
       "      <td>article71_72</td>\n",
       "      <td>An American in Paris is a jazz influenced orc...</td>\n",
       "    </tr>\n",
       "  </tbody>\n",
       "</table>\n",
       "</div>"
      ],
      "text/plain": [
       "     article_nb                                             corpus\n",
       "0    article1_2   Anarchism is a political philosophy and Polit...\n",
       "1  article65_66   Alabama Alabama is nicknamed the Northern fli...\n",
       "2  article67_68  In Greek mythology Achilles was a hero of the ...\n",
       "3  article70_71   collapsible list collapsible list collapsible...\n",
       "4  article71_72   An American in Paris is a jazz influenced orc..."
      ]
     },
     "execution_count": 4,
     "metadata": {},
     "output_type": "execute_result"
    }
   ],
   "source": [
    "df.head()"
   ]
  },
  {
   "cell_type": "code",
   "execution_count": null,
   "metadata": {},
   "outputs": [
    {
     "data": {
      "text/plain": [
       "(122780, 2)"
      ]
     },
     "execution_count": 5,
     "metadata": {},
     "output_type": "execute_result"
    }
   ],
   "source": [
    "df.shape"
   ]
  },
  {
   "cell_type": "code",
   "execution_count": null,
   "metadata": {},
   "outputs": [],
   "source": [
    "# save df as csv :\n",
    "df.to_pickle(\"..//DATA//Wiki_corpus.pkl\") "
   ]
  },
  {
   "cell_type": "raw",
   "metadata": {},
   "source": []
  },
  {
   "cell_type": "markdown",
   "metadata": {},
   "source": [
    "#  ____________________________________________________________________________________________"
   ]
  },
  {
   "cell_type": "markdown",
   "metadata": {},
   "source": [
    "# Part 2 :"
   ]
  },
  {
   "cell_type": "markdown",
   "metadata": {},
   "source": [
    "# 2 / Pre-processing :"
   ]
  },
  {
   "cell_type": "markdown",
   "metadata": {},
   "source": [
    "## Open dataset :"
   ]
  },
  {
   "cell_type": "code",
   "execution_count": 1,
   "metadata": {},
   "outputs": [
    {
     "data": {
      "text/html": [
       "<div>\n",
       "<style scoped>\n",
       "    .dataframe tbody tr th:only-of-type {\n",
       "        vertical-align: middle;\n",
       "    }\n",
       "\n",
       "    .dataframe tbody tr th {\n",
       "        vertical-align: top;\n",
       "    }\n",
       "\n",
       "    .dataframe thead th {\n",
       "        text-align: right;\n",
       "    }\n",
       "</style>\n",
       "<table border=\"1\" class=\"dataframe\">\n",
       "  <thead>\n",
       "    <tr style=\"text-align: right;\">\n",
       "      <th></th>\n",
       "      <th>article_nb</th>\n",
       "      <th>corpus</th>\n",
       "    </tr>\n",
       "  </thead>\n",
       "  <tbody>\n",
       "    <tr>\n",
       "      <th>0</th>\n",
       "      <td>article1_2</td>\n",
       "      <td>Anarchism is a political philosophy and Polit...</td>\n",
       "    </tr>\n",
       "    <tr>\n",
       "      <th>1</th>\n",
       "      <td>article65_66</td>\n",
       "      <td>Alabama Alabama is nicknamed the Northern fli...</td>\n",
       "    </tr>\n",
       "    <tr>\n",
       "      <th>2</th>\n",
       "      <td>article67_68</td>\n",
       "      <td>In Greek mythology Achilles was a hero of the ...</td>\n",
       "    </tr>\n",
       "    <tr>\n",
       "      <th>3</th>\n",
       "      <td>article70_71</td>\n",
       "      <td>collapsible list collapsible list collapsible...</td>\n",
       "    </tr>\n",
       "    <tr>\n",
       "      <th>4</th>\n",
       "      <td>article71_72</td>\n",
       "      <td>An American in Paris is a jazz influenced orc...</td>\n",
       "    </tr>\n",
       "    <tr>\n",
       "      <th>...</th>\n",
       "      <td>...</td>\n",
       "      <td>...</td>\n",
       "    </tr>\n",
       "    <tr>\n",
       "      <th>122775</th>\n",
       "      <td>article140390_140391</td>\n",
       "      <td>In object oriented programming a metaclass is...</td>\n",
       "    </tr>\n",
       "    <tr>\n",
       "      <th>122776</th>\n",
       "      <td>article140397_140398</td>\n",
       "      <td>Steve Grand Officer of the Order of the Briti...</td>\n",
       "    </tr>\n",
       "    <tr>\n",
       "      <th>122777</th>\n",
       "      <td>article140398_140399</td>\n",
       "      <td>The dirham dirhem or dirhm is a silver unit of...</td>\n",
       "    </tr>\n",
       "    <tr>\n",
       "      <th>122778</th>\n",
       "      <td>article140399_140400</td>\n",
       "      <td>Add to this deletion debate An in joke amongs...</td>\n",
       "    </tr>\n",
       "    <tr>\n",
       "      <th>122779</th>\n",
       "      <td>article140400_140401</td>\n",
       "      <td>Viscount Grandison of Limerick is a title in ...</td>\n",
       "    </tr>\n",
       "  </tbody>\n",
       "</table>\n",
       "<p>122780 rows × 2 columns</p>\n",
       "</div>"
      ],
      "text/plain": [
       "                  article_nb  \\\n",
       "0                 article1_2   \n",
       "1               article65_66   \n",
       "2               article67_68   \n",
       "3               article70_71   \n",
       "4               article71_72   \n",
       "...                      ...   \n",
       "122775  article140390_140391   \n",
       "122776  article140397_140398   \n",
       "122777  article140398_140399   \n",
       "122778  article140399_140400   \n",
       "122779  article140400_140401   \n",
       "\n",
       "                                                   corpus  \n",
       "0        Anarchism is a political philosophy and Polit...  \n",
       "1        Alabama Alabama is nicknamed the Northern fli...  \n",
       "2       In Greek mythology Achilles was a hero of the ...  \n",
       "3        collapsible list collapsible list collapsible...  \n",
       "4        An American in Paris is a jazz influenced orc...  \n",
       "...                                                   ...  \n",
       "122775   In object oriented programming a metaclass is...  \n",
       "122776   Steve Grand Officer of the Order of the Briti...  \n",
       "122777  The dirham dirhem or dirhm is a silver unit of...  \n",
       "122778   Add to this deletion debate An in joke amongs...  \n",
       "122779   Viscount Grandison of Limerick is a title in ...  \n",
       "\n",
       "[122780 rows x 2 columns]"
      ]
     },
     "execution_count": 1,
     "metadata": {},
     "output_type": "execute_result"
    }
   ],
   "source": [
    "#read Wiki_corpus.pkl :\n",
    "import pandas as pd\n",
    "\n",
    "df_corpus = pd.read_pickle(\"..//DATA//Wiki_corpus.pkl\")  \n",
    "df_corpus"
   ]
  },
  {
   "cell_type": "markdown",
   "metadata": {},
   "source": [
    "## Select data for training (aka, training dataset)"
   ]
  },
  {
   "cell_type": "code",
   "execution_count": 2,
   "metadata": {},
   "outputs": [
    {
     "data": {
      "text/html": [
       "<div>\n",
       "<style scoped>\n",
       "    .dataframe tbody tr th:only-of-type {\n",
       "        vertical-align: middle;\n",
       "    }\n",
       "\n",
       "    .dataframe tbody tr th {\n",
       "        vertical-align: top;\n",
       "    }\n",
       "\n",
       "    .dataframe thead th {\n",
       "        text-align: right;\n",
       "    }\n",
       "</style>\n",
       "<table border=\"1\" class=\"dataframe\">\n",
       "  <thead>\n",
       "    <tr style=\"text-align: right;\">\n",
       "      <th></th>\n",
       "      <th>article_nb</th>\n",
       "      <th>corpus</th>\n",
       "    </tr>\n",
       "  </thead>\n",
       "  <tbody>\n",
       "    <tr>\n",
       "      <th>100131</th>\n",
       "      <td>article62909_62910</td>\n",
       "      <td>Bernhardt was an American politician and whit...</td>\n",
       "    </tr>\n",
       "    <tr>\n",
       "      <th>12603</th>\n",
       "      <td>article893_894</td>\n",
       "      <td>Bhutan s early history is steeped in mytholog...</td>\n",
       "    </tr>\n",
       "    <tr>\n",
       "      <th>45089</th>\n",
       "      <td>article72526_72527</td>\n",
       "      <td>Pleasantville is a City from the counted in t...</td>\n",
       "    </tr>\n",
       "    <tr>\n",
       "      <th>13688</th>\n",
       "      <td>article3150_3151</td>\n",
       "      <td>Intellectual capital is the result of mental ...</td>\n",
       "    </tr>\n",
       "    <tr>\n",
       "      <th>22524</th>\n",
       "      <td>article26194_26195</td>\n",
       "      <td>The Political Compass is a website soliciting...</td>\n",
       "    </tr>\n",
       "    <tr>\n",
       "      <th>...</th>\n",
       "      <td>...</td>\n",
       "      <td>...</td>\n",
       "    </tr>\n",
       "    <tr>\n",
       "      <th>119879</th>\n",
       "      <td>article129212_129213</td>\n",
       "      <td>Methil is an eastern coastal town in Scotland...</td>\n",
       "    </tr>\n",
       "    <tr>\n",
       "      <th>103694</th>\n",
       "      <td>article74268_74269</td>\n",
       "      <td>A real estate agent referred to often as a rea...</td>\n",
       "    </tr>\n",
       "    <tr>\n",
       "      <th>860</th>\n",
       "      <td>article2188_2189</td>\n",
       "      <td>In baseball statistics total bases does not in...</td>\n",
       "    </tr>\n",
       "    <tr>\n",
       "      <th>15795</th>\n",
       "      <td>article7932_7933</td>\n",
       "      <td>Walter Burley Griffin the Sydney suburb of Ca...</td>\n",
       "    </tr>\n",
       "    <tr>\n",
       "      <th>121958</th>\n",
       "      <td>article137414_137415</td>\n",
       "      <td>Docket may refer to Docket the official sched...</td>\n",
       "    </tr>\n",
       "  </tbody>\n",
       "</table>\n",
       "<p>98224 rows × 2 columns</p>\n",
       "</div>"
      ],
      "text/plain": [
       "                  article_nb  \\\n",
       "100131    article62909_62910   \n",
       "12603         article893_894   \n",
       "45089     article72526_72527   \n",
       "13688       article3150_3151   \n",
       "22524     article26194_26195   \n",
       "...                      ...   \n",
       "119879  article129212_129213   \n",
       "103694    article74268_74269   \n",
       "860         article2188_2189   \n",
       "15795       article7932_7933   \n",
       "121958  article137414_137415   \n",
       "\n",
       "                                                   corpus  \n",
       "100131   Bernhardt was an American politician and whit...  \n",
       "12603    Bhutan s early history is steeped in mytholog...  \n",
       "45089    Pleasantville is a City from the counted in t...  \n",
       "13688    Intellectual capital is the result of mental ...  \n",
       "22524    The Political Compass is a website soliciting...  \n",
       "...                                                   ...  \n",
       "119879   Methil is an eastern coastal town in Scotland...  \n",
       "103694  A real estate agent referred to often as a rea...  \n",
       "860     In baseball statistics total bases does not in...  \n",
       "15795    Walter Burley Griffin the Sydney suburb of Ca...  \n",
       "121958   Docket may refer to Docket the official sched...  \n",
       "\n",
       "[98224 rows x 2 columns]"
      ]
     },
     "execution_count": 2,
     "metadata": {},
     "output_type": "execute_result"
    }
   ],
   "source": [
    "# Randomly sample 80% of 73000 articles from the corpus for training :\n",
    "from sklearn.model_selection import train_test_split\n",
    "\n",
    "df_corpus_train, df_corpus_test = train_test_split(df_corpus, test_size=0.2, random_state=42)\n",
    "df_corpus_train"
   ]
  },
  {
   "cell_type": "code",
   "execution_count": 3,
   "metadata": {},
   "outputs": [],
   "source": [
    "# save df_corpus_test as pkl and csv :\n",
    "df_corpus_test.to_pickle(\"..//DATA//Wiki_corpus_test.pkl\") \n",
    "df_corpus_test.to_csv(\"..//DATA//Wiki_corpus_test.csv\") \n"
   ]
  },
  {
   "cell_type": "markdown",
   "metadata": {},
   "source": [
    "## Remove stop words from sentences & lemmatize words"
   ]
  },
  {
   "cell_type": "markdown",
   "metadata": {},
   "source": [
    "This function takes a text as input (in the form of a string) and performs several text cleaning steps:\n",
    "\n",
    "1. Removing stop words: Stop words are very common words (like \"the\", \"is\", \"at\", etc.) that do not contribute much meaning to the text and can be omitted to reduce the complexity of natural language processing. The function uses the NLTK (Natural Language Toolkit) library to load a predefined list of English stop words and then removes these words from the given text.\n",
    "\n",
    "2. Lemmatizing words: Lemmatization is the process of reducing a word to its base form or root. For example, the words \"running\", \"ran\", and \"runs\" would be lemmatized to \"run\". The function also utilizes the NLTK library to perform this operation, and the words are lemmatized as verbs ('v').\n",
    "\n",
    "3. Removing words with less than 3 characters: After lemmatization, the function removes words that have less than 3 characters. This helps to eliminate very short words that may not be meaningful in the context of the text."
   ]
  },
  {
   "cell_type": "code",
   "execution_count": 4,
   "metadata": {},
   "outputs": [],
   "source": [
    "# Function to remove stop words from sentences & lemmatize words. (pass the article text as string \"doc\")\n",
    "from nltk.corpus import stopwords\n",
    "from nltk.stem.wordnet import WordNetLemmatizer\n",
    "import string\n",
    "\n",
    "stop = set(stopwords.words('english'))\n",
    "#exclude = set(string.punctuation) #remove punctuation, but useless here.\n",
    "lemma = WordNetLemmatizer()\n",
    "\n",
    "def clean(doc):\n",
    "    \n",
    "    # remove stop words & punctuation, and lemmatize words\n",
    "    stop_free = \" \".join([i for i in doc.lower().split() if i not in stop])\n",
    "    #p_free  = ''.join(ch for ch in stop_free if ch not in exclude) #remove punctuation, but useless here because they are already deleted.\n",
    "    normalized = \" \".join(lemma.lemmatize(word,'v') for word in stop_free.split())\n",
    "    x = normalized.split()\n",
    "    \n",
    "    # only take words which are greater than 2 characters\n",
    "    y = [s for s in x if len(s) > 2]\n",
    "    return y"
   ]
  },
  {
   "cell_type": "code",
   "execution_count": 5,
   "metadata": {},
   "outputs": [
    {
     "data": {
      "text/html": [
       "<div>\n",
       "<style scoped>\n",
       "    .dataframe tbody tr th:only-of-type {\n",
       "        vertical-align: middle;\n",
       "    }\n",
       "\n",
       "    .dataframe tbody tr th {\n",
       "        vertical-align: top;\n",
       "    }\n",
       "\n",
       "    .dataframe thead th {\n",
       "        text-align: right;\n",
       "    }\n",
       "</style>\n",
       "<table border=\"1\" class=\"dataframe\">\n",
       "  <thead>\n",
       "    <tr style=\"text-align: right;\">\n",
       "      <th></th>\n",
       "      <th>article_nb</th>\n",
       "      <th>corpus</th>\n",
       "    </tr>\n",
       "  </thead>\n",
       "  <tbody>\n",
       "    <tr>\n",
       "      <th>100131</th>\n",
       "      <td>article62909_62910</td>\n",
       "      <td>[bernhardt, american, politician, white, supre...</td>\n",
       "    </tr>\n",
       "    <tr>\n",
       "      <th>12603</th>\n",
       "      <td>article893_894</td>\n",
       "      <td>[bhutan, early, history, steep, mythology, rem...</td>\n",
       "    </tr>\n",
       "    <tr>\n",
       "      <th>45089</th>\n",
       "      <td>article72526_72527</td>\n",
       "      <td>[pleasantville, city, count, unite, state, cen...</td>\n",
       "    </tr>\n",
       "    <tr>\n",
       "      <th>13688</th>\n",
       "      <td>article3150_3151</td>\n",
       "      <td>[intellectual, capital, result, mental, proces...</td>\n",
       "    </tr>\n",
       "    <tr>\n",
       "      <th>22524</th>\n",
       "      <td>article26194_26195</td>\n",
       "      <td>[political, compass, website, solicit, respons...</td>\n",
       "    </tr>\n",
       "    <tr>\n",
       "      <th>...</th>\n",
       "      <td>...</td>\n",
       "      <td>...</td>\n",
       "    </tr>\n",
       "    <tr>\n",
       "      <th>119879</th>\n",
       "      <td>article129212_129213</td>\n",
       "      <td>[methil, eastern, coastal, town, scotland, fir...</td>\n",
       "    </tr>\n",
       "    <tr>\n",
       "      <th>103694</th>\n",
       "      <td>article74268_74269</td>\n",
       "      <td>[real, estate, agent, refer, often, real, esta...</td>\n",
       "    </tr>\n",
       "    <tr>\n",
       "      <th>860</th>\n",
       "      <td>article2188_2189</td>\n",
       "      <td>[baseball, statistics, total, base, increase, ...</td>\n",
       "    </tr>\n",
       "    <tr>\n",
       "      <th>15795</th>\n",
       "      <td>article7932_7933</td>\n",
       "      <td>[walter, burley, griffin, sydney, suburb, cast...</td>\n",
       "    </tr>\n",
       "    <tr>\n",
       "      <th>121958</th>\n",
       "      <td>article137414_137415</td>\n",
       "      <td>[docket, may, refer, docket, official, schedul...</td>\n",
       "    </tr>\n",
       "  </tbody>\n",
       "</table>\n",
       "<p>98224 rows × 2 columns</p>\n",
       "</div>"
      ],
      "text/plain": [
       "                  article_nb  \\\n",
       "100131    article62909_62910   \n",
       "12603         article893_894   \n",
       "45089     article72526_72527   \n",
       "13688       article3150_3151   \n",
       "22524     article26194_26195   \n",
       "...                      ...   \n",
       "119879  article129212_129213   \n",
       "103694    article74268_74269   \n",
       "860         article2188_2189   \n",
       "15795       article7932_7933   \n",
       "121958  article137414_137415   \n",
       "\n",
       "                                                   corpus  \n",
       "100131  [bernhardt, american, politician, white, supre...  \n",
       "12603   [bhutan, early, history, steep, mythology, rem...  \n",
       "45089   [pleasantville, city, count, unite, state, cen...  \n",
       "13688   [intellectual, capital, result, mental, proces...  \n",
       "22524   [political, compass, website, solicit, respons...  \n",
       "...                                                   ...  \n",
       "119879  [methil, eastern, coastal, town, scotland, fir...  \n",
       "103694  [real, estate, agent, refer, often, real, esta...  \n",
       "860     [baseball, statistics, total, base, increase, ...  \n",
       "15795   [walter, burley, griffin, sydney, suburb, cast...  \n",
       "121958  [docket, may, refer, docket, official, schedul...  \n",
       "\n",
       "[98224 rows x 2 columns]"
      ]
     },
     "execution_count": 5,
     "metadata": {},
     "output_type": "execute_result"
    }
   ],
   "source": [
    "# Cleaning all the df_corpus_train articles :\n",
    "df_corpus_train[\"corpus\"] = df_corpus_train['corpus'].apply(clean)\n",
    "df_corpus_train"
   ]
  },
  {
   "cell_type": "code",
   "execution_count": null,
   "metadata": {},
   "outputs": [],
   "source": []
  },
  {
   "cell_type": "markdown",
   "metadata": {},
   "source": [
    "# ________________________________________________________________________________"
   ]
  },
  {
   "cell_type": "markdown",
   "metadata": {},
   "source": [
    "# 3/ Building word dictionnary :"
   ]
  },
  {
   "cell_type": "markdown",
   "metadata": {},
   "source": [
    "## Creating term dictionary of corpus, where each unique term is assigned an index"
   ]
  },
  {
   "cell_type": "markdown",
   "metadata": {},
   "source": [
    "This code uses the Gensim library to create a term dictionary from the corpus of text contained in `df_corpus_train[\"corpus\"]`. The term dictionary is used to associate each unique term (word) in the corpus with a numerical index. This allows representing each document in the corpus as a numerical vector.\n",
    "\n",
    "\n",
    "This means that the dictionary contains 47,634 unique terms, and some of the terms listed include 'abbotsford', 'administrator', 'advocate', 'american', 'april', and so on. The dictionary is ready to be used for further text processing and analysis tasks such as text vectorization for natural language processing or clustering purposes."
   ]
  },
  {
   "cell_type": "code",
   "execution_count": 6,
   "metadata": {},
   "outputs": [
    {
     "name": "stdout",
     "output_type": "stream",
     "text": [
      "Dictionary<171270 unique tokens: ['addition', 'also', 'american', 'anti', 'antisemitic']...>\n"
     ]
    }
   ],
   "source": [
    "# Creating term dictionary of corpus, where each unique term is assigned an index.\n",
    "from gensim import corpora\n",
    "\n",
    "dictionary = corpora.Dictionary(df_corpus_train[\"corpus\"])\n",
    "print(dictionary)"
   ]
  },
  {
   "cell_type": "markdown",
   "metadata": {},
   "source": [
    "## Filter terms which occurs in less than 4 articles (aim to reduce overfitting) & more than 40% of the articles (aim to reduce underfitting)"
   ]
  },
  {
   "cell_type": "markdown",
   "metadata": {},
   "source": [
    "The code uses the `filter_extremes` method from the Gensim dictionary to perform these filtering operations:\n",
    "\n",
    "1. `no_below=4`: Terms that appear in less than 4 articles will be removed from the dictionary. This eliminates terms that are too specific and do not contribute significantly to modeling general themes or topics.\n",
    "\n",
    "2. `no_above=0.4`: Terms that appear in more than 40% of the articles will be removed from the dictionary. This eliminates common terms that are not informative and do not help distinguish articles from each other.\n",
    "\n",
    "After applying this filtering, the dictionary will only contain terms that strike an appropriate balance between specificity and frequency. This ensures the creation of a more generalized and informative clustering model.\n"
   ]
  },
  {
   "cell_type": "code",
   "execution_count": 7,
   "metadata": {},
   "outputs": [
    {
     "name": "stdout",
     "output_type": "stream",
     "text": [
      "Dictionary<43801 unique tokens: ['addition', 'also', 'american', 'anti', 'antisemitic']...>\n"
     ]
    }
   ],
   "source": [
    "# Filter terms which occurs in less than 4 articles (aim to reduce overfitting) & more than 40% of the articles (aim to reduce underfitting)\n",
    "\"\"\"\n",
    "All the tokens in the dictionary which either have occurred in less than 4 articles or have occurred in more than 40% of the \n",
    "articles are removed from the dictionary, as these words will not be contributing to the various themes or topics.\n",
    "\"\"\"\n",
    "\n",
    "dictionary.filter_extremes(no_below=4, no_above=0.4)\n",
    "print(dictionary)"
   ]
  },
  {
   "cell_type": "markdown",
   "metadata": {},
   "source": [
    "## List of few words which are removed from dictionary as they are content neutral"
   ]
  },
  {
   "cell_type": "markdown",
   "metadata": {},
   "source": [
    "In this code, a list of words is created, referred to as the stoplist, which contains content-neutral words. These are words that do not carry strong semantic meaning or represent specific themes or topics. Instead, they are common words that might appear frequently across different documents, but they do not contribute much to the modeling of meaningful word distributions or themes.\n",
    "\n",
    "The purpose of this code is to filter out these content-neutral words from the dictionary to prevent them from affecting the clustering process. By removing such words, the model can focus more on capturing meaningful patterns and themes in the text.\n",
    "\n",
    "By removing content-neutral words, the model can focus on identifying and capturing the key themes and topics present in the text, leading to more informative and accurate clustering results.\n",
    "\n",
    "This means that the dictionary now contains 12,970 unique terms, and some of the terms listed include 'administrator', 'advocate', 'american', 'april', 'baronet', and so on. These terms are the ones that have survived the filtering process and will be used for further text processing and clustering analysis."
   ]
  },
  {
   "cell_type": "code",
   "execution_count": 8,
   "metadata": {},
   "outputs": [
    {
     "name": "stdout",
     "output_type": "stream",
     "text": [
      "Dictionary<43758 unique tokens: ['addition', 'american', 'anti', 'antisemitic', 'bernhardt']...>\n"
     ]
    }
   ],
   "source": [
    "# List of few words which are removed from dictionary as they are content neutral\n",
    "\n",
    "\"\"\"\n",
    "After printing the most frequent words of the dictionary, we found that few words which are mostly content neutral words are also \n",
    "present in the dictionary. These words may lead to modeling of “word distribution”(topic) which is neutral and do not capture any \n",
    "theme or content. We made a list of such words and filtered all such words.\n",
    "\"\"\"\n",
    "\n",
    "stoplist = set('also use make people know many call include part find become like mean often different \\\n",
    "               usually take wikt come give well get since type list say change see refer actually iii \\\n",
    "               aisne kinds pas ask would way something need things want every str'.split())\n",
    "stop_ids = [dictionary.token2id[stopword] for stopword in stoplist if stopword in dictionary.token2id]\n",
    "dictionary.filter_tokens(stop_ids)\n",
    "print(dictionary)"
   ]
  },
  {
   "cell_type": "markdown",
   "metadata": {},
   "source": [
    "## Analyse The most frequent words with their respective frequencies"
   ]
  },
  {
   "cell_type": "markdown",
   "metadata": {},
   "source": [
    "\n",
    "In this code, the dictionary has been converted into the desired format for further processing. The code lists the words with their frequencies and also provides the corresponding unique IDs assigned to each word in the vocabulary.\n",
    "\n"
   ]
  },
  {
   "cell_type": "code",
   "execution_count": null,
   "metadata": {},
   "outputs": [],
   "source": [
    "# Convert the dictionary into the desired format\n",
    "words_frequency = list(dictionary.token2id.items())\n",
    "ids = list(dictionary.token2id.values())\n",
    "\n",
    "# Sort the words and frequencies by frequency in descending order\n",
    "words_frequency.sort(key=lambda x: x[1], reverse=False)\n",
    "ids.sort(key=lambda x: dictionary[x], reverse=False)\n",
    "\n",
    "# Print the result : from most frequent to least frequent, here the most frequent word is \"age\"\n",
    "print(\"Words Frequency:\")\n",
    "print(words_frequency) # example : \"age\" is the most frequent word ('age', 0), ('word', classement of the frequence)\n",
    "\n",
    "# Each word is also given a unique id in the vocabulary (dictionary) :\n",
    "print(\"\\nIDs:\")\n",
    "print(ids) # List of Ids"
   ]
  },
  {
   "cell_type": "markdown",
   "metadata": {},
   "source": [
    "# __________________________________________________________________________________"
   ]
  },
  {
   "cell_type": "markdown",
   "metadata": {},
   "source": [
    "# 4/ Feature extraction (Bag of Words) :"
   ]
  },
  {
   "cell_type": "markdown",
   "metadata": {},
   "source": [
    "## Converting list of documents (corpus) into Document Term Matrix using dictionary prepared above."
   ]
  },
  {
   "cell_type": "markdown",
   "metadata": {},
   "source": [
    "In this code, the list of documents (corpus) is converted into a Document Term Matrix (DTM) using the dictionary prepared above. The DTM represents the frequency of each word (term) in each document.\n",
    "\n",
    "The Document Term Matrix (DTM) is a fundamental data representation used in various natural language processing (NLP) tasks, such as topic modeling, document clustering, and information retrieval. It allows us to efficiently represent and analyze the text data in a format that can be easily used for various machine learning and statistical modeling techniques.\n"
   ]
  },
  {
   "cell_type": "code",
   "execution_count": null,
   "metadata": {},
   "outputs": [],
   "source": [
    "# Converting list of documents (corpus) into Document Term Matrix using dictionary prepared above.\n",
    "doc_term_matrix = [dictionary.doc2bow(doc) for doc in df_corpus_train[\"corpus\"]]\n",
    "doc_term_matrix"
   ]
  },
  {
   "cell_type": "markdown",
   "metadata": {},
   "source": [
    "### Example on article1_9788 :"
   ]
  },
  {
   "cell_type": "raw",
   "metadata": {},
   "source": [
    "import numpy as np\n",
    "\n",
    "for i in range(len(doc_term_matrix[0])):\n",
    "    print(np.unique(list(df_corpus_train[\"corpus\"].loc[df_corpus_train[\"article_nb\"]== \"article1_9788\"]))[i], \" : \", doc_term_matrix[0][i])"
   ]
  },
  {
   "cell_type": "code",
   "execution_count": null,
   "metadata": {},
   "outputs": [],
   "source": []
  },
  {
   "cell_type": "markdown",
   "metadata": {},
   "source": [
    "# ______________________________________________________________________________________"
   ]
  },
  {
   "cell_type": "markdown",
   "metadata": {},
   "source": [
    "# 5/ LDA Model Training :"
   ]
  },
  {
   "cell_type": "markdown",
   "metadata": {},
   "source": [
    "## Naiv modeling "
   ]
  },
  {
   "cell_type": "markdown",
   "metadata": {},
   "source": [
    "The code provided uses the Gensim library to create and train an LDA (Latent Dirichlet Allocation) model on the Document Term Matrix (DTM). LDA is a topic modeling technique that aims to discover hidden topics in a collection of text documents.\n",
    "\n"
   ]
  },
  {
   "cell_type": "markdown",
   "metadata": {},
   "source": [
    "The coherence score for the LDA model using the C_V coherence measure is approximately 0.535. This score indicates the degree of coherence and interpretability of the topics discovered by the LDA model. A higher coherence score suggests that the topics are more coherent and better represent meaningful themes in the text corpus.\n",
    "\n",
    "A coherence score around 0.4 is generally considered reasonable for topic models, but the interpretability of the topics should be further explored and validated. Depending on the specific use case and requirements, fine-tuning the number of topics and other hyperparameters of the LDA model may lead to even better coherence scores and more meaningful topic representations."
   ]
  },
  {
   "cell_type": "code",
   "execution_count": 11,
   "metadata": {},
   "outputs": [
    {
     "data": {
      "text/plain": [
       "<gensim.models.ldamodel.LdaModel at 0x1f6783c5710>"
      ]
     },
     "execution_count": 11,
     "metadata": {},
     "output_type": "execute_result"
    }
   ],
   "source": [
    "from gensim.models.ldamodel import LdaModel as Lda\n",
    "# Creating the object for LDA model using gensim library & Training LDA model on the document term matrix.\n",
    "ldamodel = Lda(corpus=doc_term_matrix, id2word = dictionary, num_topics=10, random_state=42, alpha=\"symmetric\", eta=0.01) #iterations=500,\n",
    "ldamodel"
   ]
  },
  {
   "cell_type": "code",
   "execution_count": 12,
   "metadata": {},
   "outputs": [
    {
     "data": {
      "text/plain": [
       "0.5349482956061204"
      ]
     },
     "execution_count": 12,
     "metadata": {},
     "output_type": "execute_result"
    }
   ],
   "source": [
    "from gensim.models import CoherenceModel\n",
    "\n",
    "coherence_model = CoherenceModel(model=ldamodel, texts=df_corpus_train[\"corpus\"], dictionary=dictionary, coherence='c_v')\n",
    "coherence_score = coherence_model.get_coherence()\n",
    "coherence_score"
   ]
  },
  {
   "cell_type": "markdown",
   "metadata": {},
   "source": [
    "# Optimize hyper-parameters"
   ]
  },
  {
   "cell_type": "code",
   "execution_count": null,
   "metadata": {},
   "outputs": [],
   "source": [
    "# Optimisation des hyperparamètres :\n",
    "#Bayesian Optimisation (optuna) :\n",
    "from gensim.models import CoherenceModel\n",
    "import optuna\n",
    "\n",
    "def objective(trial):\n",
    "    alpha = trial.suggest_categorical('alpha', ['symmetric', 'asymmetric']) #nb of tree\n",
    "    beta = trial.suggest_float('beta', 0.01, 1) #profondeur\n",
    "    #num_iterations = trial.suggest_catgorical('num_iterations', 100, 500)\n",
    "    num_topics = trial.suggest_int('num_topics', 0, 60) #, step=5\n",
    "\n",
    "    model = Lda(random_state=42, corpus=doc_term_matrix, id2word=dictionary, num_topics=num_topics, alpha=alpha, eta=beta) #iterations=500\n",
    "\n",
    "    coherence_model = CoherenceModel(model=model, texts=df_corpus_train[\"corpus\"], dictionary=dictionary, coherence='c_v')\n",
    "    coherence_score = coherence_model.get_coherence() \n",
    "    return coherence_score\n",
    "\n",
    "\n",
    "study = optuna.create_study(direction='maximize')\n",
    "study.optimize(objective, n_trials=100)"
   ]
  },
  {
   "cell_type": "code",
   "execution_count": 26,
   "metadata": {},
   "outputs": [
    {
     "name": "stdout",
     "output_type": "stream",
     "text": [
      "coherence_score: 0.6140356916036728\n",
      "Best hyperparameters: {'alpha': 'symmetric', 'beta': 0.3483459145159808, 'num_topics': 23}\n"
     ]
    }
   ],
   "source": [
    "trial = study.best_trial\n",
    "print('coherence_score: {}'.format(trial.value))\n",
    "print(\"Best hyperparameters: {}\".format(trial.params))"
   ]
  },
  {
   "cell_type": "markdown",
   "metadata": {},
   "source": [
    "## Ajust the model with best hyper parameters "
   ]
  },
  {
   "cell_type": "code",
   "execution_count": 47,
   "metadata": {},
   "outputs": [],
   "source": [
    "#Ajust the model with best hyper parameters :\n",
    "best_ldamodel = Lda(random_state=42, corpus=doc_term_matrix, id2word=dictionary, num_topics=(trial.params)[\"num_topics\"], alpha=(trial.params)[\"alpha\"], eta=(trial.params)[\"beta\"])"
   ]
  },
  {
   "cell_type": "markdown",
   "metadata": {},
   "source": [
    "## Analyse the result of all topics "
   ]
  },
  {
   "cell_type": "markdown",
   "metadata": {},
   "source": [
    "The code provided is intended to analyze and print all the topics learned by the best LDA model (best_ldamodel). The print_topics method of the LDA model allows us to obtain the top words associated with each topic. It returns a list of tuples, where each tuple represents a topic and its top words.\n",
    "\n",
    "Each topic is represented by a number (topic index), and the top words associated with that topic are displayed in descending order of their probability of being assigned to that topic by the model."
   ]
  },
  {
   "cell_type": "code",
   "execution_count": 49,
   "metadata": {},
   "outputs": [
    {
     "data": {
      "text/plain": [
       "[(0,\n",
       "  '0.021*\"company\" + 0.015*\"university\" + 0.012*\"service\" + 0.010*\"public\" + 0.009*\"market\" + 0.009*\"school\" + 0.008*\"education\" + 0.007*\"business\" + 0.007*\"found\" + 0.007*\"international\"'),\n",
       " (1,\n",
       "  '0.006*\"light\" + 0.006*\"power\" + 0.005*\"surface\" + 0.005*\"energy\" + 0.005*\"high\" + 0.005*\"may\" + 0.004*\"one\" + 0.004*\"system\" + 0.004*\"two\" + 0.004*\"water\"'),\n",
       " (2,\n",
       "  '0.042*\"state\" + 0.031*\"unite\" + 0.023*\"party\" + 0.015*\"government\" + 0.012*\"president\" + 0.010*\"serve\" + 0.009*\"election\" + 0.008*\"house\" + 0.008*\"general\" + 0.008*\"court\"'),\n",
       " (3,\n",
       "  '0.016*\"language\" + 0.014*\"church\" + 0.011*\"century\" + 0.009*\"ancient\" + 0.007*\"english\" + 0.007*\"greek\" + 0.007*\"name\" + 0.006*\"christian\" + 0.006*\"history\" + 0.006*\"culture\"'),\n",
       " (4,\n",
       "  '0.020*\"series\" + 0.017*\"book\" + 0.014*\"american\" + 0.014*\"television\" + 0.012*\"publish\" + 0.012*\"character\" + 0.010*\"first\" + 0.010*\"write\" + 0.009*\"show\" + 0.007*\"fiction\"'),\n",
       " (5,\n",
       "  '0.082*\"year\" + 0.048*\"roman\" + 0.047*\"calendar\" + 0.031*\"period\" + 0.026*\"name\" + 0.024*\"early\" + 0.024*\"years\" + 0.024*\"medieval\" + 0.024*\"era\" + 0.024*\"europe\"'),\n",
       " (6,\n",
       "  '0.015*\"system\" + 0.015*\"computer\" + 0.009*\"software\" + 0.009*\"program\" + 0.009*\"design\" + 0.008*\"space\" + 0.007*\"data\" + 0.007*\"systems\" + 0.006*\"network\" + 0.005*\"function\"'),\n",
       " (7,\n",
       "  '0.021*\"german\" + 0.017*\"image\" + 0.012*\"germany\" + 0.011*\"wear\" + 0.011*\"art\" + 0.010*\"prince\" + 0.009*\"princess\" + 0.008*\"switzerland\" + 0.008*\"sweden\" + 0.007*\"austria\"'),\n",
       " (8,\n",
       "  '0.064*\"film\" + 0.056*\"award\" + 0.024*\"best\" + 0.016*\"academy\" + 0.015*\"star\" + 0.010*\"receive\" + 0.009*\"direct\" + 0.009*\"american\" + 0.008*\"theatre\" + 0.008*\"prize\"'),\n",
       " (9,\n",
       "  '0.015*\"air\" + 0.014*\"ship\" + 0.012*\"aircraft\" + 0.011*\"force\" + 0.010*\"war\" + 0.010*\"navy\" + 0.008*\"unite\" + 0.007*\"first\" + 0.007*\"flight\" + 0.007*\"world\"'),\n",
       " (10,\n",
       "  '0.008*\"right\" + 0.008*\"social\" + 0.007*\"work\" + 0.006*\"law\" + 0.005*\"society\" + 0.005*\"human\" + 0.004*\"state\" + 0.004*\"person\" + 0.004*\"political\" + 0.004*\"movement\"'),\n",
       " (11,\n",
       "  '0.084*\"county\" + 0.069*\"state\" + 0.053*\"unite\" + 0.033*\"census\" + 0.031*\"population\" + 0.027*\"new\" + 0.026*\"township\" + 0.021*\"town\" + 0.018*\"york\" + 0.017*\"city\"'),\n",
       " (12,\n",
       "  '0.027*\"music\" + 0.023*\"record\" + 0.022*\"game\" + 0.018*\"release\" + 0.016*\"album\" + 0.016*\"band\" + 0.013*\"rock\" + 0.008*\"video\" + 0.007*\"american\" + 0.006*\"single\"'),\n",
       " (13,\n",
       "  '0.025*\"park\" + 0.022*\"district\" + 0.021*\"south\" + 0.018*\"town\" + 0.015*\"national\" + 0.014*\"locate\" + 0.013*\"area\" + 0.013*\"island\" + 0.012*\"wisconsin\" + 0.012*\"west\"'),\n",
       " (14,\n",
       "  '0.008*\"blood\" + 0.008*\"cell\" + 0.007*\"chemical\" + 0.007*\"cause\" + 0.006*\"disease\" + 0.006*\"body\" + 0.006*\"acid\" + 0.006*\"process\" + 0.005*\"biological\" + 0.005*\"form\"'),\n",
       " (15,\n",
       "  '0.027*\"war\" + 0.013*\"battle\" + 0.012*\"station\" + 0.010*\"line\" + 0.009*\"railway\" + 0.008*\"army\" + 0.008*\"british\" + 0.008*\"world\" + 0.006*\"china\" + 0.006*\"north\"'),\n",
       " (16,\n",
       "  '0.023*\"university\" + 0.022*\"london\" + 0.018*\"college\" + 0.015*\"british\" + 0.013*\"england\" + 0.012*\"english\" + 0.012*\"school\" + 0.012*\"john\" + 0.009*\"cambridge\" + 0.008*\"royal\"'),\n",
       " (17,\n",
       "  '0.019*\"son\" + 0.018*\"king\" + 0.017*\"baron\" + 0.017*\"lord\" + 0.016*\"title\" + 0.013*\"kingdom\" + 0.013*\"death\" + 0.012*\"ireland\" + 0.011*\"scotland\" + 0.011*\"earl\"'),\n",
       " (18,\n",
       "  '0.022*\"team\" + 0.018*\"league\" + 0.015*\"game\" + 0.014*\"football\" + 0.013*\"sport\" + 0.013*\"page\" + 0.013*\"play\" + 0.012*\"world\" + 0.012*\"wikipedia\" + 0.010*\"club\"'),\n",
       " (19,\n",
       "  '0.021*\"species\" + 0.012*\"family\" + 0.010*\"plant\" + 0.009*\"bird\" + 0.008*\"genus\" + 0.007*\"name\" + 0.006*\"automatic\" + 0.006*\"speciesbox\" + 0.006*\"taxobox\" + 0.006*\"tree\"'),\n",
       " (20,\n",
       "  '0.013*\"color\" + 0.012*\"parish\" + 0.010*\"england\" + 0.008*\"civil\" + 0.008*\"paint\" + 0.007*\"wood\" + 0.006*\"stone\" + 0.006*\"iron\" + 0.005*\"cook\" + 0.005*\"oil\"'),\n",
       " (21,\n",
       "  '0.013*\"number\" + 0.013*\"term\" + 0.012*\"may\" + 0.009*\"theory\" + 0.009*\"one\" + 0.007*\"word\" + 0.007*\"form\" + 0.006*\"language\" + 0.006*\"set\" + 0.006*\"example\"'),\n",
       " (22,\n",
       "  '0.032*\"river\" + 0.017*\"city\" + 0.013*\"region\" + 0.010*\"area\" + 0.009*\"north\" + 0.009*\"largest\" + 0.008*\"lake\" + 0.007*\"sea\" + 0.007*\"water\" + 0.007*\"mountain\"')]"
      ]
     },
     "execution_count": 49,
     "metadata": {},
     "output_type": "execute_result"
    }
   ],
   "source": [
    "# Analyse the result Print all topics :\n",
    "list_topic = best_ldamodel.print_topics(num_words=10, num_topics=23)\n",
    "list_topic"
   ]
  },
  {
   "cell_type": "code",
   "execution_count": 51,
   "metadata": {},
   "outputs": [
    {
     "name": "stderr",
     "output_type": "stream",
     "text": [
      "C:\\Users\\Pénichon\\AppData\\Local\\Temp\\ipykernel_21132\\1442987663.py:29: UserWarning: FixedFormatter should only be used together with FixedLocator\n",
      "  ax.set_xticklabels(df.loc[df.topic_id==i, 'word'], rotation=30, horizontalalignment= 'right')\n"
     ]
    },
    {
     "data": {
      "image/png": "[encoded data removed]",
      "text/plain": [
       "<Figure size 2560x1600 with 8 Axes>"
      ]
     },
     "metadata": {},
     "output_type": "display_data"
    }
   ],
   "source": [
    "import seaborn as sns\n",
    "import matplotlib.pyplot as plt\n",
    "import matplotlib.colors as mcolors\n",
    "\n",
    "from collections import Counter\n",
    "\n",
    "topics = best_ldamodel.show_topics(formatted=False)\n",
    "data_flat = [w for w_list in df_corpus_train[\"corpus\"] for w in w_list]\n",
    "counter = Counter(data_flat)\n",
    "\n",
    "out = []\n",
    "for i, topic in topics:\n",
    "    for word, weight in topic:\n",
    "        out.append([word, i , weight, counter[word]])\n",
    "\n",
    "df = pd.DataFrame(out, columns=['word', 'topic_id', 'importance', 'word_count'])        \n",
    "\n",
    "# Plot Word Count and Weights of Topic Keywords\n",
    "fig, axes = plt.subplots(2, 2, figsize=(16,10), sharey=True, dpi=160)\n",
    "cols = [color for name, color in mcolors.TABLEAU_COLORS.items()]\n",
    "for i, ax in enumerate(axes.flatten()):\n",
    "    ax.bar(x='word', height=\"word_count\", data=df.loc[df.topic_id==i, :], color=cols[i], width=0.5, alpha=0.3, label='Word Count')\n",
    "    ax_twin = ax.twinx()\n",
    "    ax_twin.bar(x='word', height=\"importance\", data=df.loc[df.topic_id==i, :], color=cols[i], width=0.2, label='Weights')\n",
    "    ax.set_ylabel('Word Count', color=cols[i])\n",
    "    ax_twin.set_ylim(0, 0.030); ax.set_ylim(0, 40)\n",
    "    ax.set_title('Topic: ' + str(i), color=cols[i], fontsize=16)\n",
    "    ax.tick_params(axis='y', left=False)\n",
    "    ax.set_xticklabels(df.loc[df.topic_id==i, 'word'], rotation=30, horizontalalignment= 'right')\n",
    "    ax.legend(loc='upper left'); ax_twin.legend(loc='upper right')\n",
    "\n",
    "fig.tight_layout(w_pad=2)    \n",
    "fig.suptitle('Word Count and Importance of Topic Keywords', fontsize=22, y=1.05)    \n",
    "plt.show()"
   ]
  },
  {
   "cell_type": "code",
   "execution_count": null,
   "metadata": {},
   "outputs": [],
   "source": []
  },
  {
   "cell_type": "markdown",
   "metadata": {},
   "source": [
    "## Save the model and the list of topics"
   ]
  },
  {
   "cell_type": "code",
   "execution_count": 52,
   "metadata": {},
   "outputs": [],
   "source": [
    "# Save the LDA model : dump LDA model using pickle for future use\n",
    "import pickle\n",
    "\n",
    "ldafile = open('..//MODEL//lda_model_sym_wiki.pkl','wb')\n",
    "pickle.dump(best_ldamodel,ldafile)\n",
    "ldafile.close()"
   ]
  },
  {
   "cell_type": "code",
   "execution_count": 53,
   "metadata": {},
   "outputs": [],
   "source": [
    "#Save the list of topic in file.txt :\n",
    "open(\"..//REPORTS//OUTPUT//List_of_topic.txt\", \"wb\")\n",
    "\n",
    "with open(\"..//REPORTS//OUTPUT//List_of_topic.txt\", \"w\") as f :\n",
    "    for topic in list_topic :\n",
    "        f.write(str(topic) + \"\\n\")\n",
    "f.close()"
   ]
  },
  {
   "cell_type": "raw",
   "metadata": {},
   "source": [
    "Final Thoughts of Part 2 :\n",
    "Hope it was an easy task for our readers to follow the blog-post till here. In this post, I have tried to explain the pipeline of the topic discovery process, from preparing the training data to the training of the LDA model. I have also tried to briefly explain the Latent Dirichlet Allocation algorithm to provide an idea of what goes into and what comes out from the LDA model. I would encourage readers to implement this series of blog-posts (see Part-1), and match their outputs with the results shown here (though topics discovered can be different at every run).\n",
    "\n",
    "There are several factors that you can experiment with in order to get even better word distributions forming the topics:\n",
    "\n",
    "1. Getting more number of articles : You can try increasing the number of articles by changing the minimum article length from 150 to 100 characters in Part-1. Also see if we can prevent discarding the articles which contains few non-ASCII characters. More training data may lead to better topic-word distribution.\n",
    "\n",
    "2. Preprocessing : By analyzing the word distributions of topics generated, you may find :\n",
    "- pairs that are always juxtaposed (entities) e.g. “Los Angeles” (topic 20), “New York” (topic 27). These pairs should be combined like Los_Angeles or New_York.\n",
    "- words that are not properly lemmatized like (germany, german), (chinese, china), (america,americans) etc. Lemmatization of nouns may help. Remember, we did lemmatization of verbs lemma.lemmatize(word,'v').\n",
    "\n",
    "3. Dictionary : The vocabulary of the corpus can be improved by removing the content neutral words. Iteratively running the whole topic discovery process and analyzing the word distributions (topics) can help in finding content neutral words from dictionary. Some example are “ing” (topic 10), “per” (Topic 43).\n",
    "\n",
    "4. Parameters of LDA : There are two parameters of LDA to look upon –  alpha and beta. Understanding the mathematics behind LDA model may help in tuning these parameters. I would encourage readers to do so."
   ]
  },
  {
   "cell_type": "code",
   "execution_count": null,
   "metadata": {},
   "outputs": [],
   "source": []
  },
  {
   "cell_type": "markdown",
   "metadata": {},
   "source": [
    "# _____________________________________________________________________________________"
   ]
  },
  {
   "cell_type": "markdown",
   "metadata": {},
   "source": [
    "# Part 3 :"
   ]
  },
  {
   "cell_type": "markdown",
   "metadata": {},
   "source": [
    "## Load the LDA model"
   ]
  },
  {
   "cell_type": "code",
   "execution_count": 54,
   "metadata": {},
   "outputs": [],
   "source": [
    "# Load the LDA model : dump LDA model using pickle for future use\n",
    "import pickle\n",
    "\n",
    "lda_model = pickle.load(open('..//MODEL//lda_model_sym_wiki.pkl','rb'))"
   ]
  },
  {
   "cell_type": "markdown",
   "metadata": {},
   "source": [
    "## Open test data"
   ]
  },
  {
   "cell_type": "code",
   "execution_count": 55,
   "metadata": {},
   "outputs": [
    {
     "data": {
      "text/html": [
       "<div>\n",
       "<style scoped>\n",
       "    .dataframe tbody tr th:only-of-type {\n",
       "        vertical-align: middle;\n",
       "    }\n",
       "\n",
       "    .dataframe tbody tr th {\n",
       "        vertical-align: top;\n",
       "    }\n",
       "\n",
       "    .dataframe thead th {\n",
       "        text-align: right;\n",
       "    }\n",
       "</style>\n",
       "<table border=\"1\" class=\"dataframe\">\n",
       "  <thead>\n",
       "    <tr style=\"text-align: right;\">\n",
       "      <th></th>\n",
       "      <th>article_nb</th>\n",
       "      <th>corpus</th>\n",
       "    </tr>\n",
       "  </thead>\n",
       "  <tbody>\n",
       "    <tr>\n",
       "      <th>2687</th>\n",
       "      <td>article6067_6068</td>\n",
       "      <td>Elwyn Brooks White In a survey of School Libr...</td>\n",
       "    </tr>\n",
       "    <tr>\n",
       "      <th>79474</th>\n",
       "      <td>article85807_85808</td>\n",
       "      <td>Matthew Tindal was an eminent England English...</td>\n",
       "    </tr>\n",
       "    <tr>\n",
       "      <th>17990</th>\n",
       "      <td>article13511_13512</td>\n",
       "      <td>Rationality is the Quality acts rationally if...</td>\n",
       "    </tr>\n",
       "    <tr>\n",
       "      <th>63148</th>\n",
       "      <td>article36753_36754</td>\n",
       "      <td>Earl of Essex is a title in the Peerage of En...</td>\n",
       "    </tr>\n",
       "    <tr>\n",
       "      <th>11461</th>\n",
       "      <td>article25907_25908</td>\n",
       "      <td>The Quirinal Hill is one of the Seven Hills o...</td>\n",
       "    </tr>\n",
       "    <tr>\n",
       "      <th>...</th>\n",
       "      <td>...</td>\n",
       "      <td>...</td>\n",
       "    </tr>\n",
       "    <tr>\n",
       "      <th>79009</th>\n",
       "      <td>article84363_84364</td>\n",
       "      <td>Matthew Nicholas Hales and various television...</td>\n",
       "    </tr>\n",
       "    <tr>\n",
       "      <th>62764</th>\n",
       "      <td>article35586_35587</td>\n",
       "      <td>by encouraging people to walk or ride a bike ...</td>\n",
       "    </tr>\n",
       "    <tr>\n",
       "      <th>105929</th>\n",
       "      <td>article80803_80804</td>\n",
       "      <td>Cerdon is a Communes of France commune in the...</td>\n",
       "    </tr>\n",
       "    <tr>\n",
       "      <th>115301</th>\n",
       "      <td>article112401_112402</td>\n",
       "      <td>The Ontario Science Centre formally the Cente...</td>\n",
       "    </tr>\n",
       "    <tr>\n",
       "      <th>16307</th>\n",
       "      <td>article9218_9219</td>\n",
       "      <td>A warp drive or a drive enabling space warp is...</td>\n",
       "    </tr>\n",
       "  </tbody>\n",
       "</table>\n",
       "<p>24556 rows × 2 columns</p>\n",
       "</div>"
      ],
      "text/plain": [
       "                  article_nb  \\\n",
       "2687        article6067_6068   \n",
       "79474     article85807_85808   \n",
       "17990     article13511_13512   \n",
       "63148     article36753_36754   \n",
       "11461     article25907_25908   \n",
       "...                      ...   \n",
       "79009     article84363_84364   \n",
       "62764     article35586_35587   \n",
       "105929    article80803_80804   \n",
       "115301  article112401_112402   \n",
       "16307       article9218_9219   \n",
       "\n",
       "                                                   corpus  \n",
       "2687     Elwyn Brooks White In a survey of School Libr...  \n",
       "79474    Matthew Tindal was an eminent England English...  \n",
       "17990    Rationality is the Quality acts rationally if...  \n",
       "63148    Earl of Essex is a title in the Peerage of En...  \n",
       "11461    The Quirinal Hill is one of the Seven Hills o...  \n",
       "...                                                   ...  \n",
       "79009    Matthew Nicholas Hales and various television...  \n",
       "62764    by encouraging people to walk or ride a bike ...  \n",
       "105929   Cerdon is a Communes of France commune in the...  \n",
       "115301   The Ontario Science Centre formally the Cente...  \n",
       "16307   A warp drive or a drive enabling space warp is...  \n",
       "\n",
       "[24556 rows x 2 columns]"
      ]
     },
     "execution_count": 55,
     "metadata": {},
     "output_type": "execute_result"
    }
   ],
   "source": [
    "#read Wiki_corpus_test.pkl :\n",
    "import pandas as pd\n",
    "\n",
    "df_corpus_test = pd.read_pickle(\"..//DATA//Wiki_corpus_test.pkl\")  \n",
    "df_corpus_test"
   ]
  },
  {
   "cell_type": "markdown",
   "metadata": {},
   "source": [
    "# Pre-processing on test set :"
   ]
  },
  {
   "cell_type": "code",
   "execution_count": 56,
   "metadata": {},
   "outputs": [],
   "source": [
    "# 1/ Clean article with regex :\n",
    "import re\n",
    "\n",
    "def is_ascii(s):\n",
    "    return all(ord(c) < 128 for c in s)\n",
    "\n",
    "\n",
    "def clean_with_regex(article_txt) :\n",
    "    if not article_txt == None:  \n",
    "        # Extracting the text portion from the article                                              \n",
    "        article_txt = article_txt[ : article_txt.find(\"==\")]\n",
    "\n",
    "        # remove text written between double curly braces\n",
    "        article_txt = re.sub(r\"{{.*}}\",\"\",article_txt)\n",
    "\n",
    "        # remove file attachments\n",
    "        article_txt = re.sub(r\"\\[\\[File:.*\\]\\]\",\"\",article_txt)\n",
    "\n",
    "        # remove Image attachments\n",
    "        article_txt = re.sub(r\"\\[\\[Image:.*\\]\\]\",\"\",article_txt)\n",
    "\n",
    "        # remove unwanted lines starting from special characters\n",
    "        article_txt = re.sub(r\"\\n: \\'\\'.*\",\"\",article_txt)\n",
    "        article_txt = re.sub(r\"\\n!.*\",\"\",article_txt)\n",
    "        article_txt = re.sub(r\"^:\\'\\'.*\",\"\",article_txt)\n",
    "\n",
    "        #  remove non-breaking space symbols\n",
    "        article_txt = re.sub(r\"&nbsp\",\"\",article_txt)\n",
    "\n",
    "        # remove URLs link\n",
    "        article_txt = re.sub(r\"http\\S+\",\"\",article_txt)\n",
    "\n",
    "        # remove digits from text\n",
    "        article_txt = re.sub(r\"\\d+\",\"\",article_txt)   \n",
    "\n",
    "        # remove text written between small braces\n",
    "        article_txt = re.sub(r\"\\(.*\\)\",\"\",article_txt)\n",
    "\n",
    "        # remove sentence which tells category of article\n",
    "        article_txt = re.sub(r\"Category:.*\",\"\",article_txt)\n",
    "\n",
    "        # remove the sentences inside infobox or taxobox\n",
    "        article_txt = re.sub(r\"\\| .*\",\"\",article_txt)\n",
    "        article_txt = re.sub(r\"\\n\\|.*\",\"\",article_txt)\n",
    "        article_txt = re.sub(r\"\\n \\|.*\",\"\",article_txt)\n",
    "        article_txt = re.sub(r\".* \\|\\n\",\"\",article_txt)\n",
    "        article_txt = re.sub(r\".*\\|\\n\",\"\",article_txt)\n",
    "\n",
    "        # remove infobox or taxobox\n",
    "        article_txt = re.sub(r\"{{Infobox.*\",\"\",article_txt)\n",
    "        article_txt = re.sub(r\"{{infobox.*\",\"\",article_txt)\n",
    "        article_txt = re.sub(r\"{{taxobox.*\",\"\",article_txt)\n",
    "        article_txt = re.sub(r\"{{Taxobox.*\",\"\",article_txt)\n",
    "        article_txt = re.sub(r\"{{ Infobox.*\",\"\",article_txt)\n",
    "        article_txt = re.sub(r\"{{ infobox.*\",\"\",article_txt)\n",
    "        article_txt = re.sub(r\"{{ taxobox.*\",\"\",article_txt)\n",
    "        article_txt = re.sub(r\"{{ Taxobox.*\",\"\",article_txt)\n",
    "\n",
    "        # remove lines starting from *\n",
    "        article_txt = re.sub(r\"\\* .*\",\"\",article_txt)\n",
    "\n",
    "        # remove text written between angle bracket\n",
    "        article_txt = re.sub(r\"<.*>\",\"\",article_txt)\n",
    "\n",
    "        # remove new line character\n",
    "        article_txt = re.sub(r\"\\n\",\"\",article_txt)  \n",
    "\n",
    "        # replace all punctuations with space\n",
    "        article_txt = re.sub(r\"\\!|\\\"|\\#|\\$|\\%|\\&|\\'|\\(|\\)|\\*|\\+|\\,|\\-|\\.|\\/|\\:|\\;|\\<|\\=|\\>|\\?|\\@|\\[|\\\\|\\]|\\^|\\_|\\`|\\{|\\||\\}|\\~\",\" \",article_txt)\n",
    "\n",
    "        # replace consecutive multiple space with single space\n",
    "        article_txt = re.sub(r\" +\",\" \",article_txt)\n",
    "\n",
    "        # replace non-breaking space with regular space\n",
    "        article_txt = article_txt.replace(u'\\xa0', u' ')\n",
    "        \n",
    "        if is_ascii(article_txt):\n",
    "            return article_txt\n",
    "        else :\n",
    "            return \"\"\n",
    "        \n",
    "\n",
    "#df_corpus_test[\"corpus\"] = df_corpus_test[\"corpus\"].apply(clean_with_regex)"
   ]
  },
  {
   "cell_type": "code",
   "execution_count": 57,
   "metadata": {},
   "outputs": [],
   "source": [
    "# 2/ drop empty and useless article :\n",
    "#df_corpus_test =  df_corpus_test[(df_corpus_test['corpus'] != None) & (df_corpus_test['corpus'] != \"\") & (len(df_corpus_test['corpus']) > 150)]\n",
    "#df_corpus_test"
   ]
  },
  {
   "cell_type": "code",
   "execution_count": 58,
   "metadata": {},
   "outputs": [],
   "source": [
    "# 3/ Clean article with stop word and lemmatization :\n",
    "\n",
    "# Function to remove stop words from sentences & lemmatize words. (pass the article text as string \"doc\")\n",
    "from nltk.corpus import stopwords\n",
    "from nltk.stem.wordnet import WordNetLemmatizer\n",
    "import string\n",
    "\n",
    "stop = set(stopwords.words('english'))\n",
    "#exclude = set(string.punctuation) #remove punctuation, but useless here.\n",
    "lemma = WordNetLemmatizer()\n",
    "\n",
    "\n",
    "def clean_with_stopword_lemmatization(doc):\n",
    "    \n",
    "    # remove stop words & punctuation, and lemmatize words\n",
    "    stop_free = \" \".join([i for i in doc.lower().split() if i not in stop])\n",
    "    #p_free  = ''.join(ch for ch in stop_free if ch not in exclude) #remove punctuation, but useless here because they are already deleted.\n",
    "    normalized = \" \".join(lemma.lemmatize(word,'v') for word in stop_free.split())\n",
    "    x = normalized.split()\n",
    "    \n",
    "    # only take words which are greater than 2 characters\n",
    "    y = [s for s in x if len(s) > 2]\n",
    "    return y\n",
    "\n",
    "#df_corpus_test[\"corpus\"] = df_corpus_test['corpus'].apply(clean_with_stopword_lemmatization)\n",
    "#df_corpus_test"
   ]
  },
  {
   "cell_type": "markdown",
   "metadata": {},
   "source": [
    "# _______________________________________________________________________________________"
   ]
  },
  {
   "cell_type": "markdown",
   "metadata": {},
   "source": [
    "# 7/ Document clustering :"
   ]
  },
  {
   "cell_type": "markdown",
   "metadata": {},
   "source": [
    "Performs document clustering given a set of documents :\n",
    "The below Python function follows the above steps to perform document clustering given an article corpus.\n",
    "\n",
    "Document clustering is an unsupervised approach to cluster the articles depending upon the topics which have been discovered \n",
    "in the training phase. Document clustering takes a corpus of unlabeled articles as an input and categorizes them in various groups \n",
    "according to the best matched word distributions (topics) generated from training. Following are the steps performed for document clustering.\n",
    "\n",
    "- 1/ Clean all the articles in the input cluster.\n",
    "- 2/ Convert each of the text articles into bag-of-words features using the same dictionary of trained model.\n",
    "- 3/ Extract the best matched topic from each article using the trained LDA model. In gensim implementation, we have get_document_topic()function which does the same.\n",
    "- 4/ Write the article in the directory belonging to extracted topic if minimum probability criteria is satisfied, otherwise push it in \n",
    "the “unknown” directory.\n",
    "- 5/ If the extracted topic (word distribution) is ambiguous , then we choose the 2nd best matched topic (as some of the discovered 50 topics are content neutral)."
   ]
  },
  {
   "cell_type": "code",
   "execution_count": 59,
   "metadata": {},
   "outputs": [
    {
     "data": {
      "text/html": [
       "<div>\n",
       "<style scoped>\n",
       "    .dataframe tbody tr th:only-of-type {\n",
       "        vertical-align: middle;\n",
       "    }\n",
       "\n",
       "    .dataframe tbody tr th {\n",
       "        vertical-align: top;\n",
       "    }\n",
       "\n",
       "    .dataframe thead th {\n",
       "        text-align: right;\n",
       "    }\n",
       "</style>\n",
       "<table border=\"1\" class=\"dataframe\">\n",
       "  <thead>\n",
       "    <tr style=\"text-align: right;\">\n",
       "      <th></th>\n",
       "      <th>article_nb</th>\n",
       "      <th>corpus</th>\n",
       "      <th>topic</th>\n",
       "      <th>topic_proba</th>\n",
       "    </tr>\n",
       "  </thead>\n",
       "  <tbody>\n",
       "    <tr>\n",
       "      <th>2687</th>\n",
       "      <td>article6067_6068</td>\n",
       "      <td>Elwyn Brooks White In a survey of School Libr...</td>\n",
       "      <td>Television Series and Fictional Characters</td>\n",
       "      <td>0.648</td>\n",
       "    </tr>\n",
       "    <tr>\n",
       "      <th>79474</th>\n",
       "      <td>article85807_85808</td>\n",
       "      <td>Matthew Tindal was an eminent England English...</td>\n",
       "      <td>Language, History, and Culture</td>\n",
       "      <td>0.588</td>\n",
       "    </tr>\n",
       "    <tr>\n",
       "      <th>17990</th>\n",
       "      <td>article13511_13512</td>\n",
       "      <td>Rationality is the Quality acts rationally if...</td>\n",
       "      <td>Human Rights and Social Movements</td>\n",
       "      <td>0.628</td>\n",
       "    </tr>\n",
       "    <tr>\n",
       "      <th>63148</th>\n",
       "      <td>article36753_36754</td>\n",
       "      <td>Earl of Essex is a title in the Peerage of En...</td>\n",
       "      <td>Titles and Kingdoms</td>\n",
       "      <td>0.572</td>\n",
       "    </tr>\n",
       "    <tr>\n",
       "      <th>11461</th>\n",
       "      <td>article25907_25908</td>\n",
       "      <td>The Quirinal Hill is one of the Seven Hills o...</td>\n",
       "      <td>Geographic Features and Rivers</td>\n",
       "      <td>0.328</td>\n",
       "    </tr>\n",
       "    <tr>\n",
       "      <th>...</th>\n",
       "      <td>...</td>\n",
       "      <td>...</td>\n",
       "      <td>...</td>\n",
       "      <td>...</td>\n",
       "    </tr>\n",
       "    <tr>\n",
       "      <th>79009</th>\n",
       "      <td>article84363_84364</td>\n",
       "      <td>Matthew Nicholas Hales and various television...</td>\n",
       "      <td>Music and Record Releases</td>\n",
       "      <td>0.451</td>\n",
       "    </tr>\n",
       "    <tr>\n",
       "      <th>62764</th>\n",
       "      <td>article35586_35587</td>\n",
       "      <td>by encouraging people to walk or ride a bike ...</td>\n",
       "      <td>Human Rights and Social Movements</td>\n",
       "      <td>0.234</td>\n",
       "    </tr>\n",
       "    <tr>\n",
       "      <th>105929</th>\n",
       "      <td>article80803_80804</td>\n",
       "      <td>Cerdon is a Communes of France commune in the...</td>\n",
       "      <td>Wars and Battles</td>\n",
       "      <td>0.322</td>\n",
       "    </tr>\n",
       "    <tr>\n",
       "      <th>115301</th>\n",
       "      <td>article112401_112402</td>\n",
       "      <td>The Ontario Science Centre formally the Cente...</td>\n",
       "      <td>Geographic Locations and Parks</td>\n",
       "      <td>0.644</td>\n",
       "    </tr>\n",
       "    <tr>\n",
       "      <th>16307</th>\n",
       "      <td>article9218_9219</td>\n",
       "      <td>A warp drive or a drive enabling space warp is...</td>\n",
       "      <td>Television Series and Fictional Characters</td>\n",
       "      <td>0.331</td>\n",
       "    </tr>\n",
       "  </tbody>\n",
       "</table>\n",
       "<p>24556 rows × 4 columns</p>\n",
       "</div>"
      ],
      "text/plain": [
       "                  article_nb  \\\n",
       "2687        article6067_6068   \n",
       "79474     article85807_85808   \n",
       "17990     article13511_13512   \n",
       "63148     article36753_36754   \n",
       "11461     article25907_25908   \n",
       "...                      ...   \n",
       "79009     article84363_84364   \n",
       "62764     article35586_35587   \n",
       "105929    article80803_80804   \n",
       "115301  article112401_112402   \n",
       "16307       article9218_9219   \n",
       "\n",
       "                                                   corpus  \\\n",
       "2687     Elwyn Brooks White In a survey of School Libr...   \n",
       "79474    Matthew Tindal was an eminent England English...   \n",
       "17990    Rationality is the Quality acts rationally if...   \n",
       "63148    Earl of Essex is a title in the Peerage of En...   \n",
       "11461    The Quirinal Hill is one of the Seven Hills o...   \n",
       "...                                                   ...   \n",
       "79009    Matthew Nicholas Hales and various television...   \n",
       "62764    by encouraging people to walk or ride a bike ...   \n",
       "105929   Cerdon is a Communes of France commune in the...   \n",
       "115301   The Ontario Science Centre formally the Cente...   \n",
       "16307   A warp drive or a drive enabling space warp is...   \n",
       "\n",
       "                                             topic  topic_proba  \n",
       "2687    Television Series and Fictional Characters        0.648  \n",
       "79474               Language, History, and Culture        0.588  \n",
       "17990            Human Rights and Social Movements        0.628  \n",
       "63148                          Titles and Kingdoms        0.572  \n",
       "11461               Geographic Features and Rivers        0.328  \n",
       "...                                            ...          ...  \n",
       "79009                    Music and Record Releases        0.451  \n",
       "62764            Human Rights and Social Movements        0.234  \n",
       "105929                            Wars and Battles        0.322  \n",
       "115301              Geographic Locations and Parks        0.644  \n",
       "16307   Television Series and Fictional Characters        0.331  \n",
       "\n",
       "[24556 rows x 4 columns]"
      ]
     },
     "execution_count": 59,
     "metadata": {},
     "output_type": "execute_result"
    }
   ],
   "source": [
    "# Clustering articles\n",
    "from operator import itemgetter\n",
    "\n",
    "def cluster_similar_documents(doc):\n",
    "    #rename topics (unknown if the topic looks neutral):\n",
    "    topics = ['Education and International Companies',\n",
    "            'Energy and Natural Elements',\n",
    "            'Politics and Government in the United States',\n",
    "            'Language, History, and Culture',\n",
    "            'Television Series and Fictional Characters',\n",
    "            'Historical Periods in Europe',\n",
    "            'Computer Systems and Software',\n",
    "            'German Royalty and Art',\n",
    "            'Film Awards and Performances',\n",
    "            'Military and Aircrafts',\n",
    "            'Human Rights and Social Movements',\n",
    "            'Demographics and Geography',\n",
    "            'Music and Record Releases',\n",
    "            'Geographic Locations and Parks',\n",
    "            'Biological Processes and Chemicals',\n",
    "            'Wars and Battles',\n",
    "            'British Universities and Schools',\n",
    "            'Titles and Kingdoms',\n",
    "            'Sports and Football Leagues',\n",
    "            'Plant and Species',\n",
    "            'Colors and Materials',\n",
    "            'Mathematical Terms and Concepts',\n",
    "            'Geographic Features and Rivers']\n",
    "\n",
    "\n",
    "    #Pre-processing :\n",
    "    doc = clean_with_regex(doc)\n",
    "    doc = doc if (doc != None) & (len(doc) > 150) else \"\"\n",
    "    doc = clean_with_stopword_lemmatization(doc)\n",
    "    \n",
    "    #doc_bow\n",
    "    doc_bow = lda_model.id2word.doc2bow(doc)\n",
    "    \n",
    "    #doc_topics\n",
    "    doc_topics = lda_model.get_document_topics(doc_bow, minimum_probability=0.05)\n",
    "    \n",
    "    # return the most pertinent topic :\n",
    "    if doc_topics:\n",
    "        doc_topics.sort(key = itemgetter(1), reverse=True)\n",
    "        theme = topics[doc_topics[0][0]]\n",
    "        theme_proba = round(doc_topics[0][1], 3)\n",
    "        if theme == \"unknown\":\n",
    "            try :\n",
    "                theme = topics[doc_topics[1][0]]\n",
    "                theme_proba = round(doc_topics[1][1], 3)\n",
    "            except IndexError :\n",
    "                theme = topics[doc_topics[0][0]]\n",
    "                theme_proba = round(doc_topics[0][1], 3) \n",
    "    else:\n",
    "        theme = \"unknown\"\n",
    "        theme_proba = 0\n",
    "        \n",
    "    return pd.Series([theme, theme_proba])\n",
    "\n",
    "df_corpus_test[[\"topic\", \"topic_proba\"]] = df_corpus_test['corpus'].apply(lambda corpus : cluster_similar_documents(corpus))\n",
    "df_corpus_test"
   ]
  },
  {
   "cell_type": "code",
   "execution_count": 61,
   "metadata": {},
   "outputs": [
    {
     "data": {
      "text/html": [
       "<div>\n",
       "<style scoped>\n",
       "    .dataframe tbody tr th:only-of-type {\n",
       "        vertical-align: middle;\n",
       "    }\n",
       "\n",
       "    .dataframe tbody tr th {\n",
       "        vertical-align: top;\n",
       "    }\n",
       "\n",
       "    .dataframe thead th {\n",
       "        text-align: right;\n",
       "    }\n",
       "</style>\n",
       "<table border=\"1\" class=\"dataframe\">\n",
       "  <thead>\n",
       "    <tr style=\"text-align: right;\">\n",
       "      <th></th>\n",
       "      <th>nb_of_article</th>\n",
       "    </tr>\n",
       "  </thead>\n",
       "  <tbody>\n",
       "    <tr>\n",
       "      <th>Demographics and Geography</th>\n",
       "      <td>4464</td>\n",
       "    </tr>\n",
       "    <tr>\n",
       "      <th>Television Series and Fictional Characters</th>\n",
       "      <td>1585</td>\n",
       "    </tr>\n",
       "    <tr>\n",
       "      <th>Language, History, and Culture</th>\n",
       "      <td>1511</td>\n",
       "    </tr>\n",
       "    <tr>\n",
       "      <th>Politics and Government in the United States</th>\n",
       "      <td>1468</td>\n",
       "    </tr>\n",
       "    <tr>\n",
       "      <th>Music and Record Releases</th>\n",
       "      <td>1374</td>\n",
       "    </tr>\n",
       "    <tr>\n",
       "      <th>Human Rights and Social Movements</th>\n",
       "      <td>1244</td>\n",
       "    </tr>\n",
       "    <tr>\n",
       "      <th>Geographic Locations and Parks</th>\n",
       "      <td>1198</td>\n",
       "    </tr>\n",
       "    <tr>\n",
       "      <th>Education and International Companies</th>\n",
       "      <td>1130</td>\n",
       "    </tr>\n",
       "    <tr>\n",
       "      <th>Computer Systems and Software</th>\n",
       "      <td>1120</td>\n",
       "    </tr>\n",
       "    <tr>\n",
       "      <th>Plant and Species</th>\n",
       "      <td>1035</td>\n",
       "    </tr>\n",
       "    <tr>\n",
       "      <th>Energy and Natural Elements</th>\n",
       "      <td>1023</td>\n",
       "    </tr>\n",
       "    <tr>\n",
       "      <th>Military and Aircrafts</th>\n",
       "      <td>964</td>\n",
       "    </tr>\n",
       "    <tr>\n",
       "      <th>Wars and Battles</th>\n",
       "      <td>962</td>\n",
       "    </tr>\n",
       "    <tr>\n",
       "      <th>Mathematical Terms and Concepts</th>\n",
       "      <td>902</td>\n",
       "    </tr>\n",
       "    <tr>\n",
       "      <th>Sports and Football Leagues</th>\n",
       "      <td>691</td>\n",
       "    </tr>\n",
       "    <tr>\n",
       "      <th>Geographic Features and Rivers</th>\n",
       "      <td>658</td>\n",
       "    </tr>\n",
       "    <tr>\n",
       "      <th>Biological Processes and Chemicals</th>\n",
       "      <td>647</td>\n",
       "    </tr>\n",
       "    <tr>\n",
       "      <th>Film Awards and Performances</th>\n",
       "      <td>642</td>\n",
       "    </tr>\n",
       "    <tr>\n",
       "      <th>British Universities and Schools</th>\n",
       "      <td>566</td>\n",
       "    </tr>\n",
       "    <tr>\n",
       "      <th>Titles and Kingdoms</th>\n",
       "      <td>533</td>\n",
       "    </tr>\n",
       "    <tr>\n",
       "      <th>Historical Periods in Europe</th>\n",
       "      <td>321</td>\n",
       "    </tr>\n",
       "    <tr>\n",
       "      <th>Colors and Materials</th>\n",
       "      <td>319</td>\n",
       "    </tr>\n",
       "    <tr>\n",
       "      <th>German Royalty and Art</th>\n",
       "      <td>134</td>\n",
       "    </tr>\n",
       "    <tr>\n",
       "      <th>unknown</th>\n",
       "      <td>65</td>\n",
       "    </tr>\n",
       "  </tbody>\n",
       "</table>\n",
       "</div>"
      ],
      "text/plain": [
       "                                              nb_of_article\n",
       "Demographics and Geography                             4464\n",
       "Television Series and Fictional Characters             1585\n",
       "Language, History, and Culture                         1511\n",
       "Politics and Government in the United States           1468\n",
       "Music and Record Releases                              1374\n",
       "Human Rights and Social Movements                      1244\n",
       "Geographic Locations and Parks                         1198\n",
       "Education and International Companies                  1130\n",
       "Computer Systems and Software                          1120\n",
       "Plant and Species                                      1035\n",
       "Energy and Natural Elements                            1023\n",
       "Military and Aircrafts                                  964\n",
       "Wars and Battles                                        962\n",
       "Mathematical Terms and Concepts                         902\n",
       "Sports and Football Leagues                             691\n",
       "Geographic Features and Rivers                          658\n",
       "Biological Processes and Chemicals                      647\n",
       "Film Awards and Performances                            642\n",
       "British Universities and Schools                        566\n",
       "Titles and Kingdoms                                     533\n",
       "Historical Periods in Europe                            321\n",
       "Colors and Materials                                    319\n",
       "German Royalty and Art                                  134\n",
       "unknown                                                  65"
      ]
     },
     "execution_count": 61,
     "metadata": {},
     "output_type": "execute_result"
    }
   ],
   "source": [
    "# Analyse the result of the clustering\n",
    "pd.DataFrame(df_corpus_test['topic'].value_counts()).rename(columns={\"topic\": \"nb_of_article\"})"
   ]
  },
  {
   "cell_type": "markdown",
   "metadata": {},
   "source": [
    "# ______________________________________________________________________________________"
   ]
  },
  {
   "cell_type": "markdown",
   "metadata": {},
   "source": [
    "# 8/ Theme Extraction :"
   ]
  },
  {
   "cell_type": "markdown",
   "metadata": {},
   "source": [
    "The below Python function extracts the theme from article given as an argument."
   ]
  },
  {
   "cell_type": "code",
   "execution_count": 70,
   "metadata": {},
   "outputs": [
    {
     "name": "stdout",
     "output_type": "stream",
     "text": [
      "For the given article : Apple Inc. is an American multinational technology company headquartered in Cupertino, California. Apple is the world's largest technology company by revenue, with US$394.3 billion in 2022 revenue.[6] As of March 2023, Apple is the world's biggest company by market capitalization.[7] As of June 2022, Apple is the fourth-largest personal computer vendor by unit sales and the second-largest mobile phone manufacturer in the world. It is considered one of the Big Five American information technology companies, alongside Alphabet (parent company of Google), Amazon, Meta Platforms, and Microsoft. Apple was founded as Apple Computer Company on April 1, 1976, by Steve Wozniak, Steve Jobs (1955–2011) and Ronald Wayne to develop and sell Wozniak's Apple I personal computer. It was incorporated by Jobs and Wozniak as Apple Computer, Inc. in 1977. The company's second computer, the Apple II, became a best seller and one of the first mass-produced microcomputers. Apple went public in 1980 to instant financial success. The company developed computers featuring innovative graphical user interfaces, including the 1984 original Macintosh, announced that year in a critically acclaimed advertisement called 1984. By 1985, the high cost of its products, and power struggles between executives, caused problems. Wozniak stepped back from Apple and pursued other ventures, while Jobs resigned and founded NeXT, taking some Apple employees with him.\n",
      "Topic -> Education and International Companies\n",
      "Topic proba -> 0.4519999921321869\n"
     ]
    }
   ],
   "source": [
    "article = \"Apple Inc. is an American multinational technology company headquartered in Cupertino, California. Apple is the world's largest technology company by revenue, with US$394.3 billion in 2022 revenue.[6] As of March 2023, Apple is the world's biggest company by market capitalization.[7] As of June 2022, Apple is the fourth-largest personal computer vendor by unit sales and the second-largest mobile phone manufacturer in the world. It is considered one of the Big Five American information technology companies, alongside Alphabet (parent company of Google), Amazon, Meta Platforms, and Microsoft. Apple was founded as Apple Computer Company on April 1, 1976, by Steve Wozniak, Steve Jobs (1955–2011) and Ronald Wayne to develop and sell Wozniak's Apple I personal computer. It was incorporated by Jobs and Wozniak as Apple Computer, Inc. in 1977. The company's second computer, the Apple II, became a best seller and one of the first mass-produced microcomputers. Apple went public in 1980 to instant financial success. The company developed computers featuring innovative graphical user interfaces, including the 1984 original Macintosh, announced that year in a critically acclaimed advertisement called 1984. By 1985, the high cost of its products, and power struggles between executives, caused problems. Wozniak stepped back from Apple and pursued other ventures, while Jobs resigned and founded NeXT, taking some Apple employees with him.\"\n",
    "\n",
    "def Theme_extraction(article) :\n",
    "    print(f\"For the given article : {article}\")\n",
    "    print(f\"Topic -> {cluster_similar_documents(article)[0]}\")\n",
    "    print((f\"Topic proba -> {round(cluster_similar_documents(article)[1], 3)}\"))\n",
    "    \n",
    "Theme_extraction(article)"
   ]
  },
  {
   "cell_type": "code",
   "execution_count": null,
   "metadata": {},
   "outputs": [],
   "source": []
  },
  {
   "cell_type": "markdown",
   "metadata": {},
   "source": [
    "# _____________________________________________________________________________________________________"
   ]
  },
  {
   "cell_type": "markdown",
   "metadata": {},
   "source": [
    "# 9/ Document Exploration :"
   ]
  },
  {
   "cell_type": "markdown",
   "metadata": {},
   "source": [
    "The above Python function implements a documents exploring system where given a word/theme/topic as an input, \n",
    "it prints the “top” most related articles from the simple wiki test corpus. The test corpus is also given as input to the function."
   ]
  },
  {
   "cell_type": "code",
   "execution_count": 63,
   "metadata": {},
   "outputs": [],
   "source": [
    "def get_text_from_topic(topic, df_corpus, top) :\n",
    "    df_corpus_output = df_corpus[df_corpus[\"topic\"]==topic].sort_values(by=[\"topic_proba\"], ascending=False).head(top)\n",
    "    return df_corpus_output"
   ]
  },
  {
   "cell_type": "code",
   "execution_count": 65,
   "metadata": {},
   "outputs": [
    {
     "data": {
      "text/html": [
       "<div>\n",
       "<style scoped>\n",
       "    .dataframe tbody tr th:only-of-type {\n",
       "        vertical-align: middle;\n",
       "    }\n",
       "\n",
       "    .dataframe tbody tr th {\n",
       "        vertical-align: top;\n",
       "    }\n",
       "\n",
       "    .dataframe thead th {\n",
       "        text-align: right;\n",
       "    }\n",
       "</style>\n",
       "<table border=\"1\" class=\"dataframe\">\n",
       "  <thead>\n",
       "    <tr style=\"text-align: right;\">\n",
       "      <th></th>\n",
       "      <th>article_nb</th>\n",
       "      <th>corpus</th>\n",
       "      <th>topic</th>\n",
       "      <th>topic_proba</th>\n",
       "    </tr>\n",
       "  </thead>\n",
       "  <tbody>\n",
       "    <tr>\n",
       "      <th>47335</th>\n",
       "      <td>article76831_76832</td>\n",
       "      <td>Washington Township may be any of these place...</td>\n",
       "      <td>Demographics and Geography</td>\n",
       "      <td>0.992</td>\n",
       "    </tr>\n",
       "    <tr>\n",
       "      <th>39830</th>\n",
       "      <td>article63158_63159</td>\n",
       "      <td>There is a Fulton Oswego County New York city...</td>\n",
       "      <td>Demographics and Geography</td>\n",
       "      <td>0.987</td>\n",
       "    </tr>\n",
       "    <tr>\n",
       "      <th>34350</th>\n",
       "      <td>article53652_53653</td>\n",
       "      <td>Galien Township is a civil township of Berrie...</td>\n",
       "      <td>Demographics and Geography</td>\n",
       "      <td>0.987</td>\n",
       "    </tr>\n",
       "    <tr>\n",
       "      <th>49782</th>\n",
       "      <td>article82812_82813</td>\n",
       "      <td>Cameron is a city in Clinton County Missouri ...</td>\n",
       "      <td>Demographics and Geography</td>\n",
       "      <td>0.985</td>\n",
       "    </tr>\n",
       "    <tr>\n",
       "      <th>72349</th>\n",
       "      <td>article64102_64103</td>\n",
       "      <td>Chester is a Village New York Poughkeepsie nd...</td>\n",
       "      <td>Demographics and Geography</td>\n",
       "      <td>0.985</td>\n",
       "    </tr>\n",
       "    <tr>\n",
       "      <th>35078</th>\n",
       "      <td>article54690_54691</td>\n",
       "      <td>Montague is a city in Muskegon County Michiga...</td>\n",
       "      <td>Demographics and Geography</td>\n",
       "      <td>0.985</td>\n",
       "    </tr>\n",
       "    <tr>\n",
       "      <th>40853</th>\n",
       "      <td>article64956_64957</td>\n",
       "      <td>Galion is a city in Crawford County Ohio Craw...</td>\n",
       "      <td>Demographics and Geography</td>\n",
       "      <td>0.984</td>\n",
       "    </tr>\n",
       "    <tr>\n",
       "      <th>39665</th>\n",
       "      <td>article62967_62968</td>\n",
       "      <td>Mechanicstown is a Hamlet New York Newburgh n...</td>\n",
       "      <td>Demographics and Geography</td>\n",
       "      <td>0.984</td>\n",
       "    </tr>\n",
       "    <tr>\n",
       "      <th>72205</th>\n",
       "      <td>article63917_63918</td>\n",
       "      <td>Pine Plains is a Hamlet New York Newburgh nda...</td>\n",
       "      <td>Demographics and Geography</td>\n",
       "      <td>0.984</td>\n",
       "    </tr>\n",
       "    <tr>\n",
       "      <th>47281</th>\n",
       "      <td>article76762_76763</td>\n",
       "      <td>Perry Township is the name of several places ...</td>\n",
       "      <td>Demographics and Geography</td>\n",
       "      <td>0.982</td>\n",
       "    </tr>\n",
       "  </tbody>\n",
       "</table>\n",
       "</div>"
      ],
      "text/plain": [
       "               article_nb                                             corpus  \\\n",
       "47335  article76831_76832   Washington Township may be any of these place...   \n",
       "39830  article63158_63159   There is a Fulton Oswego County New York city...   \n",
       "34350  article53652_53653   Galien Township is a civil township of Berrie...   \n",
       "49782  article82812_82813   Cameron is a city in Clinton County Missouri ...   \n",
       "72349  article64102_64103   Chester is a Village New York Poughkeepsie nd...   \n",
       "35078  article54690_54691   Montague is a city in Muskegon County Michiga...   \n",
       "40853  article64956_64957   Galion is a city in Crawford County Ohio Craw...   \n",
       "39665  article62967_62968   Mechanicstown is a Hamlet New York Newburgh n...   \n",
       "72205  article63917_63918   Pine Plains is a Hamlet New York Newburgh nda...   \n",
       "47281  article76762_76763   Perry Township is the name of several places ...   \n",
       "\n",
       "                            topic  topic_proba  \n",
       "47335  Demographics and Geography        0.992  \n",
       "39830  Demographics and Geography        0.987  \n",
       "34350  Demographics and Geography        0.987  \n",
       "49782  Demographics and Geography        0.985  \n",
       "72349  Demographics and Geography        0.985  \n",
       "35078  Demographics and Geography        0.985  \n",
       "40853  Demographics and Geography        0.984  \n",
       "39665  Demographics and Geography        0.984  \n",
       "72205  Demographics and Geography        0.984  \n",
       "47281  Demographics and Geography        0.982  "
      ]
     },
     "execution_count": 65,
     "metadata": {},
     "output_type": "execute_result"
    }
   ],
   "source": [
    "get_text_from_topic('Demographics and Geography', df_corpus_test, top=10)"
   ]
  },
  {
   "cell_type": "raw",
   "metadata": {},
   "source": []
  }
 ],
 "metadata": {
  "kernelspec": {
   "display_name": "Python 3",
   "language": "python",
   "name": "python3"
  },
  "language_info": {
   "codemirror_mode": {
    "name": "ipython",
    "version": 3
   },
   "file_extension": ".py",
   "mimetype": "text/x-python",
   "name": "python",
   "nbconvert_exporter": "python",
   "pygments_lexer": "ipython3",
   "version": "3.11.2"
  },
  "orig_nbformat": 4
 },
 "nbformat": 4,
 "nbformat_minor": 2
}
